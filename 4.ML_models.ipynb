{
 "cells": [
  {
   "cell_type": "code",
   "execution_count": 1,
   "metadata": {
    "colab": {},
    "colab_type": "code",
    "id": "6VXPfRp-tARR",
    "outputId": "6c27acaf-2c6a-467f-fd7a-68efce98e30b"
   },
   "outputs": [],
   "source": [
    "import pandas as pd\n",
    "import matplotlib.pyplot as plt\n",
    "import re\n",
    "import time\n",
    "import warnings\n",
    "import sqlite3\n",
    "from sqlalchemy import create_engine # database connection\n",
    "import csv\n",
    "import os\n",
    "warnings.filterwarnings(\"ignore\")\n",
    "import datetime as dt\n",
    "import numpy as np\n",
    "from nltk.corpus import stopwords\n",
    "from sklearn.decomposition import TruncatedSVD\n",
    "from sklearn.preprocessing import normalize\n",
    "from sklearn.feature_extraction.text import CountVectorizer\n",
    "from sklearn.manifold import TSNE\n",
    "import seaborn as sns\n",
    "from sklearn.neighbors import KNeighborsClassifier\n",
    "from sklearn.metrics import confusion_matrix\n",
    "from sklearn.metrics.classification import accuracy_score, log_loss\n",
    "from sklearn.feature_extraction.text import TfidfVectorizer\n",
    "from collections import Counter\n",
    "from scipy.sparse import hstack\n",
    "from sklearn.multiclass import OneVsRestClassifier\n",
    "from sklearn.svm import SVC\n",
    "from sklearn.model_selection import StratifiedKFold \n",
    "from collections import Counter, defaultdict\n",
    "from sklearn.calibration import CalibratedClassifierCV\n",
    "from sklearn.naive_bayes import MultinomialNB\n",
    "from sklearn.naive_bayes import GaussianNB\n",
    "from sklearn.model_selection import train_test_split\n",
    "from sklearn.model_selection import GridSearchCV\n",
    "import math\n",
    "from sklearn.metrics import normalized_mutual_info_score\n",
    "from sklearn.ensemble import RandomForestClassifier\n",
    "\n",
    "\n",
    "\n",
    "from sklearn.model_selection import cross_val_score\n",
    "from sklearn.linear_model import SGDClassifier\n",
    "from mlxtend.classifier import StackingClassifier\n",
    "\n",
    "from sklearn import model_selection\n",
    "from sklearn.linear_model import LogisticRegression\n",
    "from sklearn.metrics import precision_recall_curve, auc, roc_curve"
   ]
  },
  {
   "cell_type": "markdown",
   "metadata": {
    "colab_type": "text",
    "id": "ZihvUPvHtARd"
   },
   "source": [
    "<h1>4. Machine Learning Models </h1>"
   ]
  },
  {
   "cell_type": "markdown",
   "metadata": {
    "colab_type": "text",
    "id": "CtN9VBPutARf"
   },
   "source": [
    "<h2> 4.1 Reading data from file and storing into sql table </h2>"
   ]
  },
  {
   "cell_type": "code",
   "execution_count": 28,
   "metadata": {
    "colab": {},
    "colab_type": "code",
    "id": "owBQdjY1tARh"
   },
   "outputs": [
    {
     "name": "stdout",
     "output_type": "stream",
     "text": [
      "180000 rows\n",
      "360000 rows\n",
      "540000 rows\n"
     ]
    }
   ],
   "source": [
    "#Creating db file from csv\n",
    "if not os.path.isfile('train.db'):\n",
    "    disk_engine = create_engine('sqlite:///train.db')\n",
    "    start = dt.datetime.now()\n",
    "    chunksize = 180000\n",
    "    j = 0\n",
    "    index_start = 1\n",
    "    for df in pd.read_csv('final_features.csv', names=['Unnamed: 0','id','is_duplicate','cwc_min','cwc_max','csc_min','csc_max','ctc_min','ctc_max','last_word_eq','first_word_eq','abs_len_diff','mean_len','token_set_ratio','token_sort_ratio','fuzz_ratio','fuzz_partial_ratio','longest_substr_ratio','freq_qid1','freq_qid2','q1len','q2len','q1_n_words','q2_n_words','word_Common','word_Total','word_share','freq_q1+q2','freq_q1-q2','0_x','0_y'], chunksize=chunksize, iterator=True, encoding='utf-8', ):\n",
    "        df.index += index_start\n",
    "        j+=1\n",
    "        print('{} rows'.format(j*chunksize))\n",
    "        df.to_sql('data', disk_engine, if_exists='append')\n",
    "        index_start = df.index[-1] + 1"
   ]
  },
  {
   "cell_type": "code",
   "execution_count": 29,
   "metadata": {
    "colab": {},
    "colab_type": "code",
    "id": "4hpD3aBktARn"
   },
   "outputs": [],
   "source": [
    "#http://www.sqlitetutorial.net/sqlite-python/create-tables/\n",
    "def create_connection(db_file):\n",
    "    \"\"\" create a database connection to the SQLite database\n",
    "        specified by db_file\n",
    "    :param db_file: database file\n",
    "    :return: Connection object or None\n",
    "    \"\"\"\n",
    "    try:\n",
    "        conn = sqlite3.connect(db_file)\n",
    "        return conn\n",
    "    except Error as e:\n",
    "        print(e)\n",
    " \n",
    "    return None\n",
    "\n",
    "\n",
    "def checkTableExists(dbcon):\n",
    "    cursr = dbcon.cursor()\n",
    "    str = \"select name from sqlite_master where type='table'\"\n",
    "    table_names = cursr.execute(str)\n",
    "    print(\"Tables in the databse:\")\n",
    "    tables =table_names.fetchall() \n",
    "    print(tables[0][0])\n",
    "    return(len(tables))"
   ]
  },
  {
   "cell_type": "code",
   "execution_count": 30,
   "metadata": {
    "colab": {},
    "colab_type": "code",
    "id": "nR8ZIUnttARs",
    "outputId": "810fb3fb-7da2-4b78-9e29-9edabbf68cf6",
    "scrolled": true
   },
   "outputs": [
    {
     "name": "stdout",
     "output_type": "stream",
     "text": [
      "Tables in the databse:\n",
      "data\n"
     ]
    }
   ],
   "source": [
    "read_db = 'train.db'\n",
    "conn_r = create_connection(read_db)\n",
    "checkTableExists(conn_r)\n",
    "conn_r.close()"
   ]
  },
  {
   "cell_type": "code",
   "execution_count": 36,
   "metadata": {
    "colab": {},
    "colab_type": "code",
    "id": "SZq5gaaztARy"
   },
   "outputs": [],
   "source": [
    "# try to sample data according to the computing power you have\n",
    "if os.path.isfile(read_db):\n",
    "    conn_r = create_connection(read_db)\n",
    "    if conn_r is not None:\n",
    "        # for selecting first 1M rows\n",
    "        # data = pd.read_sql_query(\"\"\"SELECT * FROM data LIMIT 100001;\"\"\", conn_r)\n",
    "        \n",
    "        # for selecting random points\n",
    "#         data = pd.read_sql_query(\"SELECT * From data ORDER BY RANDOM() LIMIT 50000;\", conn_r)\n",
    "        data = pd.read_sql_query(\"SELECT * From data ORDER BY RANDOM() LIMIT 50000;\", conn_r)\n",
    "#         print(data)\n",
    "        conn_r.commit()\n",
    "        conn_r.close()"
   ]
  },
  {
   "cell_type": "code",
   "execution_count": 37,
   "metadata": {},
   "outputs": [
    {
     "data": {
      "text/plain": [
       "(50000, 32)"
      ]
     },
     "execution_count": 37,
     "metadata": {},
     "output_type": "execute_result"
    }
   ],
   "source": [
    "data.shape"
   ]
  },
  {
   "cell_type": "code",
   "execution_count": 38,
   "metadata": {},
   "outputs": [],
   "source": [
    "# data['374_y']"
   ]
  },
  {
   "cell_type": "code",
   "execution_count": 39,
   "metadata": {},
   "outputs": [
    {
     "data": {
      "text/plain": [
       "pandas.core.frame.DataFrame"
      ]
     },
     "execution_count": 39,
     "metadata": {},
     "output_type": "execute_result"
    }
   ],
   "source": [
    "type(data)"
   ]
  },
  {
   "cell_type": "code",
   "execution_count": 40,
   "metadata": {},
   "outputs": [],
   "source": [
    "# data.astype(float)"
   ]
  },
  {
   "cell_type": "code",
   "execution_count": 41,
   "metadata": {},
   "outputs": [],
   "source": [
    "# data[(data != 0).all(1)]"
   ]
  },
  {
   "cell_type": "code",
   "execution_count": 42,
   "metadata": {},
   "outputs": [],
   "source": [
    "# data.shape"
   ]
  },
  {
   "cell_type": "code",
   "execution_count": 43,
   "metadata": {},
   "outputs": [],
   "source": [
    "# data"
   ]
  },
  {
   "cell_type": "code",
   "execution_count": 44,
   "metadata": {
    "colab": {},
    "colab_type": "code",
    "id": "ZkeBKktKtAR3"
   },
   "outputs": [],
   "source": [
    "# remove the first row \n",
    "data.drop(data.index[0], inplace=True)\n",
    "y_true = data['is_duplicate']\n",
    "data.drop(['Unnamed: 0', 'id','index','is_duplicate'], axis=1, inplace=True)"
   ]
  },
  {
   "cell_type": "code",
   "execution_count": 45,
   "metadata": {
    "colab": {},
    "colab_type": "code",
    "id": "QKSenpsmtAR9",
    "outputId": "81d890ce-df79-4402-9324-84817dbd5a7d",
    "scrolled": true
   },
   "outputs": [
    {
     "data": {
      "text/html": [
       "<div>\n",
       "<style scoped>\n",
       "    .dataframe tbody tr th:only-of-type {\n",
       "        vertical-align: middle;\n",
       "    }\n",
       "\n",
       "    .dataframe tbody tr th {\n",
       "        vertical-align: top;\n",
       "    }\n",
       "\n",
       "    .dataframe thead th {\n",
       "        text-align: right;\n",
       "    }\n",
       "</style>\n",
       "<table border=\"1\" class=\"dataframe\">\n",
       "  <thead>\n",
       "    <tr style=\"text-align: right;\">\n",
       "      <th></th>\n",
       "      <th>cwc_min</th>\n",
       "      <th>cwc_max</th>\n",
       "      <th>csc_min</th>\n",
       "      <th>csc_max</th>\n",
       "      <th>ctc_min</th>\n",
       "      <th>ctc_max</th>\n",
       "      <th>last_word_eq</th>\n",
       "      <th>first_word_eq</th>\n",
       "      <th>abs_len_diff</th>\n",
       "      <th>mean_len</th>\n",
       "      <th>...</th>\n",
       "      <th>q2len</th>\n",
       "      <th>q1_n_words</th>\n",
       "      <th>q2_n_words</th>\n",
       "      <th>word_Common</th>\n",
       "      <th>word_Total</th>\n",
       "      <th>word_share</th>\n",
       "      <th>freq_q1+q2</th>\n",
       "      <th>freq_q1-q2</th>\n",
       "      <th>0_x</th>\n",
       "      <th>0_y</th>\n",
       "    </tr>\n",
       "  </thead>\n",
       "  <tbody>\n",
       "    <tr>\n",
       "      <th>1</th>\n",
       "      <td>0.799984000319994</td>\n",
       "      <td>0.799984000319994</td>\n",
       "      <td>0.749981250468738</td>\n",
       "      <td>0.499991666805553</td>\n",
       "      <td>0.77776913589849</td>\n",
       "      <td>0.636357851292261</td>\n",
       "      <td>1.0</td>\n",
       "      <td>1.0</td>\n",
       "      <td>2.0</td>\n",
       "      <td>10.0</td>\n",
       "      <td>...</td>\n",
       "      <td>51</td>\n",
       "      <td>9</td>\n",
       "      <td>11</td>\n",
       "      <td>7.0</td>\n",
       "      <td>20.0</td>\n",
       "      <td>0.35</td>\n",
       "      <td>2</td>\n",
       "      <td>0</td>\n",
       "      <td>1.17733214741262</td>\n",
       "      <td>1.46119048382388</td>\n",
       "    </tr>\n",
       "    <tr>\n",
       "      <th>2</th>\n",
       "      <td>0.333327777870369</td>\n",
       "      <td>0.19999800002</td>\n",
       "      <td>0.249996875039062</td>\n",
       "      <td>0.181816528940646</td>\n",
       "      <td>0.249998437509766</td>\n",
       "      <td>0.173912287337881</td>\n",
       "      <td>0.0</td>\n",
       "      <td>0.0</td>\n",
       "      <td>7.0</td>\n",
       "      <td>19.5</td>\n",
       "      <td>...</td>\n",
       "      <td>137</td>\n",
       "      <td>16</td>\n",
       "      <td>23</td>\n",
       "      <td>4.0</td>\n",
       "      <td>35.0</td>\n",
       "      <td>0.114285714285714</td>\n",
       "      <td>10</td>\n",
       "      <td>8</td>\n",
       "      <td>2.43751967642489</td>\n",
       "      <td>3.76077113106294</td>\n",
       "    </tr>\n",
       "    <tr>\n",
       "      <th>3</th>\n",
       "      <td>0.33332222259258</td>\n",
       "      <td>0.33332222259258</td>\n",
       "      <td>0.749981250468738</td>\n",
       "      <td>0.749981250468738</td>\n",
       "      <td>0.571420408279882</td>\n",
       "      <td>0.571420408279882</td>\n",
       "      <td>1.0</td>\n",
       "      <td>1.0</td>\n",
       "      <td>0.0</td>\n",
       "      <td>7.0</td>\n",
       "      <td>...</td>\n",
       "      <td>31</td>\n",
       "      <td>7</td>\n",
       "      <td>7</td>\n",
       "      <td>4.0</td>\n",
       "      <td>14.0</td>\n",
       "      <td>0.285714285714286</td>\n",
       "      <td>3</td>\n",
       "      <td>1</td>\n",
       "      <td>0.732249386965123</td>\n",
       "      <td>1.038626804521</td>\n",
       "    </tr>\n",
       "    <tr>\n",
       "      <th>4</th>\n",
       "      <td>0.374995312558593</td>\n",
       "      <td>0.374995312558593</td>\n",
       "      <td>0.249993750156246</td>\n",
       "      <td>0.199996000079998</td>\n",
       "      <td>0.307689940846609</td>\n",
       "      <td>0.285712244912536</td>\n",
       "      <td>0.0</td>\n",
       "      <td>0.0</td>\n",
       "      <td>1.0</td>\n",
       "      <td>13.5</td>\n",
       "      <td>...</td>\n",
       "      <td>75</td>\n",
       "      <td>13</td>\n",
       "      <td>14</td>\n",
       "      <td>3.0</td>\n",
       "      <td>25.0</td>\n",
       "      <td>0.12</td>\n",
       "      <td>2</td>\n",
       "      <td>0</td>\n",
       "      <td>1.66568638817019</td>\n",
       "      <td>2.3179113910713</td>\n",
       "    </tr>\n",
       "    <tr>\n",
       "      <th>5</th>\n",
       "      <td>0.799984000319994</td>\n",
       "      <td>0.666655555740738</td>\n",
       "      <td>0.66664444518516</td>\n",
       "      <td>0.399992000159997</td>\n",
       "      <td>0.666659259341563</td>\n",
       "      <td>0.599994000059999</td>\n",
       "      <td>0.0</td>\n",
       "      <td>0.0</td>\n",
       "      <td>1.0</td>\n",
       "      <td>9.5</td>\n",
       "      <td>...</td>\n",
       "      <td>59</td>\n",
       "      <td>9</td>\n",
       "      <td>10</td>\n",
       "      <td>4.0</td>\n",
       "      <td>19.0</td>\n",
       "      <td>0.210526315789474</td>\n",
       "      <td>2</td>\n",
       "      <td>0</td>\n",
       "      <td>1.46228249394335</td>\n",
       "      <td>1.27306798092953</td>\n",
       "    </tr>\n",
       "  </tbody>\n",
       "</table>\n",
       "<p>5 rows × 28 columns</p>\n",
       "</div>"
      ],
      "text/plain": [
       "             cwc_min            cwc_max            csc_min            csc_max  \\\n",
       "1  0.799984000319994  0.799984000319994  0.749981250468738  0.499991666805553   \n",
       "2  0.333327777870369      0.19999800002  0.249996875039062  0.181816528940646   \n",
       "3   0.33332222259258   0.33332222259258  0.749981250468738  0.749981250468738   \n",
       "4  0.374995312558593  0.374995312558593  0.249993750156246  0.199996000079998   \n",
       "5  0.799984000319994  0.666655555740738   0.66664444518516  0.399992000159997   \n",
       "\n",
       "             ctc_min            ctc_max last_word_eq first_word_eq  \\\n",
       "1   0.77776913589849  0.636357851292261          1.0           1.0   \n",
       "2  0.249998437509766  0.173912287337881          0.0           0.0   \n",
       "3  0.571420408279882  0.571420408279882          1.0           1.0   \n",
       "4  0.307689940846609  0.285712244912536          0.0           0.0   \n",
       "5  0.666659259341563  0.599994000059999          0.0           0.0   \n",
       "\n",
       "  abs_len_diff mean_len        ...        q2len q1_n_words q2_n_words  \\\n",
       "1          2.0     10.0        ...           51          9         11   \n",
       "2          7.0     19.5        ...          137         16         23   \n",
       "3          0.0      7.0        ...           31          7          7   \n",
       "4          1.0     13.5        ...           75         13         14   \n",
       "5          1.0      9.5        ...           59          9         10   \n",
       "\n",
       "  word_Common word_Total         word_share freq_q1+q2 freq_q1-q2  \\\n",
       "1         7.0       20.0               0.35          2          0   \n",
       "2         4.0       35.0  0.114285714285714         10          8   \n",
       "3         4.0       14.0  0.285714285714286          3          1   \n",
       "4         3.0       25.0               0.12          2          0   \n",
       "5         4.0       19.0  0.210526315789474          2          0   \n",
       "\n",
       "                 0_x               0_y  \n",
       "1   1.17733214741262  1.46119048382388  \n",
       "2   2.43751967642489  3.76077113106294  \n",
       "3  0.732249386965123    1.038626804521  \n",
       "4   1.66568638817019   2.3179113910713  \n",
       "5   1.46228249394335  1.27306798092953  \n",
       "\n",
       "[5 rows x 28 columns]"
      ]
     },
     "execution_count": 45,
     "metadata": {},
     "output_type": "execute_result"
    }
   ],
   "source": [
    "data.head()"
   ]
  },
  {
   "cell_type": "code",
   "execution_count": 46,
   "metadata": {},
   "outputs": [
    {
     "data": {
      "text/plain": [
       "pandas.core.frame.DataFrame"
      ]
     },
     "execution_count": 46,
     "metadata": {},
     "output_type": "execute_result"
    }
   ],
   "source": [
    "type(data)"
   ]
  },
  {
   "cell_type": "markdown",
   "metadata": {
    "colab_type": "text",
    "id": "KaWHDzqUtASD"
   },
   "source": [
    "<h2> 4.2 Converting strings to numerics </h2>"
   ]
  },
  {
   "cell_type": "code",
   "execution_count": 47,
   "metadata": {
    "colab": {},
    "colab_type": "code",
    "id": "iLV60gkptASD",
    "outputId": "f297e0f4-52d5-4ab4-8a43-f0ff82f63698"
   },
   "outputs": [
    {
     "name": "stdout",
     "output_type": "stream",
     "text": [
      "<class 'str'>\n",
      "cwc_min\n",
      "cwc_max\n",
      "csc_min\n",
      "csc_max\n",
      "ctc_min\n",
      "ctc_max\n",
      "last_word_eq\n",
      "first_word_eq\n",
      "abs_len_diff\n",
      "mean_len\n",
      "token_set_ratio\n",
      "token_sort_ratio\n",
      "fuzz_ratio\n",
      "fuzz_partial_ratio\n",
      "longest_substr_ratio\n",
      "freq_qid1\n",
      "freq_qid2\n",
      "q1len\n",
      "q2len\n",
      "q1_n_words\n",
      "q2_n_words\n",
      "word_Common\n",
      "word_Total\n",
      "word_share\n",
      "freq_q1+q2\n",
      "freq_q1-q2\n",
      "0_x\n",
      "0_y\n"
     ]
    }
   ],
   "source": [
    "# after we read from sql table each entry was read it as a string\n",
    "# we convert all the features into numaric before we apply any model\n",
    "cols = list(data.columns)\n",
    "# print(cols)\n",
    "print(type(data.cwc_min[1]))  # Checking type of columns\n",
    "for i in cols:\n",
    "    data[i] = data[i].apply(pd.to_numeric)\n",
    "    print(i)\n",
    "# for i in cols:\n",
    "#     data.i = data.i.astype(int)\n",
    "#     print(i)\n",
    "\n",
    "\n",
    "# data = data.astype(int)"
   ]
  },
  {
   "cell_type": "code",
   "execution_count": 48,
   "metadata": {
    "colab": {},
    "colab_type": "code",
    "id": "_LpfQwc9tASJ",
    "scrolled": true
   },
   "outputs": [],
   "source": [
    "# https://stackoverflow.com/questions/7368789/convert-all-strings-in-a-list-to-int\n",
    "y_true = list(map(int, y_true.values))\n",
    "# for i in y_true:\n",
    "#     print(i)\n",
    "# results = [int(i) for i in y_true.values]\n",
    "# y_true = y_true.astype(int)\n",
    "# y_true = y_true.values\n",
    "# results"
   ]
  },
  {
   "cell_type": "code",
   "execution_count": 49,
   "metadata": {},
   "outputs": [],
   "source": [
    "# y_true.shape"
   ]
  },
  {
   "cell_type": "markdown",
   "metadata": {
    "colab_type": "text",
    "id": "CuMTqWGutASO"
   },
   "source": [
    "<h2> 4.3 Random train test split( 70:30) </h2>"
   ]
  },
  {
   "cell_type": "code",
   "execution_count": 50,
   "metadata": {
    "colab": {},
    "colab_type": "code",
    "id": "3Rat2obGtASP"
   },
   "outputs": [],
   "source": [
    "X_train,X_test, y_train, y_test = train_test_split(data, y_true, stratify=y_true, test_size=0.3)"
   ]
  },
  {
   "cell_type": "code",
   "execution_count": 51,
   "metadata": {
    "colab": {},
    "colab_type": "code",
    "id": "1Iw9zCHqtASS",
    "outputId": "910b684b-0876-4dd8-e0d9-457846236833"
   },
   "outputs": [
    {
     "name": "stdout",
     "output_type": "stream",
     "text": [
      "Number of data points in train data : (34999, 28)\n",
      "Number of data points in test data : (15000, 28)\n"
     ]
    }
   ],
   "source": [
    "print(\"Number of data points in train data :\",X_train.shape)\n",
    "print(\"Number of data points in test data :\",X_test.shape)"
   ]
  },
  {
   "cell_type": "code",
   "execution_count": 52,
   "metadata": {
    "colab": {},
    "colab_type": "code",
    "id": "0oDV15LJtASY",
    "outputId": "70a1e4eb-3f31-4f1e-a53b-ad972978505d"
   },
   "outputs": [
    {
     "name": "stdout",
     "output_type": "stream",
     "text": [
      "---------- Distribution of output variable in train data ----------\n",
      "Class 0:  0.6295894168404812 Class 1:  0.37041058315951886\n",
      "---------- Distribution of output variable in train data ----------\n",
      "Class 0:  0.3704 Class 1:  0.3704\n"
     ]
    }
   ],
   "source": [
    "print(\"-\"*10, \"Distribution of output variable in train data\", \"-\"*10)\n",
    "train_distr = Counter(y_train)\n",
    "train_len = len(y_train)\n",
    "print(\"Class 0: \",int(train_distr[0])/train_len,\"Class 1: \", int(train_distr[1])/train_len)\n",
    "print(\"-\"*10, \"Distribution of output variable in train data\", \"-\"*10)\n",
    "test_distr = Counter(y_test)\n",
    "test_len = len(y_test)\n",
    "print(\"Class 0: \",int(test_distr[1])/test_len, \"Class 1: \",int(test_distr[1])/test_len)"
   ]
  },
  {
   "cell_type": "code",
   "execution_count": 53,
   "metadata": {
    "colab": {},
    "colab_type": "code",
    "id": "XfxcPT6jtASg"
   },
   "outputs": [],
   "source": [
    "# This function plots the confusion matrices given y_i, y_i_hat.\n",
    "def plot_confusion_matrix(test_y, predict_y):\n",
    "    C = confusion_matrix(test_y, predict_y)\n",
    "    # C = 9,9 matrix, each cell (i,j) represents number of points of class i are predicted class j\n",
    "    \n",
    "    A =(((C.T)/(C.sum(axis=1))).T)\n",
    "    #divid each element of the confusion matrix with the sum of elements in that column\n",
    "    \n",
    "    # C = [[1, 2],\n",
    "    #     [3, 4]]\n",
    "    # C.T = [[1, 3],\n",
    "    #        [2, 4]]\n",
    "    # C.sum(axis = 1)  axis=0 corresonds to columns and axis=1 corresponds to rows in two diamensional array\n",
    "    # C.sum(axix =1) = [[3, 7]]\n",
    "    # ((C.T)/(C.sum(axis=1))) = [[1/3, 3/7]\n",
    "    #                           [2/3, 4/7]]\n",
    "\n",
    "    # ((C.T)/(C.sum(axis=1))).T = [[1/3, 2/3]\n",
    "    #                           [3/7, 4/7]]\n",
    "    # sum of row elements = 1\n",
    "    \n",
    "    B =(C/C.sum(axis=0))\n",
    "    #divid each element of the confusion matrix with the sum of elements in that row\n",
    "    # C = [[1, 2],\n",
    "    #     [3, 4]]\n",
    "    # C.sum(axis = 0)  axis=0 corresonds to columns and axis=1 corresponds to rows in two diamensional array\n",
    "    # C.sum(axix =0) = [[4, 6]]\n",
    "    # (C/C.sum(axis=0)) = [[1/4, 2/6],\n",
    "    #                      [3/4, 4/6]] \n",
    "    plt.figure(figsize=(20,4))\n",
    "    \n",
    "    labels = [1,2]\n",
    "    # representing A in heatmap format\n",
    "    cmap=sns.light_palette(\"blue\")\n",
    "    plt.subplot(1, 3, 1)\n",
    "    sns.heatmap(C, annot=True, cmap=cmap, fmt=\".3f\", xticklabels=labels, yticklabels=labels)\n",
    "    plt.xlabel('Predicted Class')\n",
    "    plt.ylabel('Original Class')\n",
    "    plt.title(\"Confusion matrix\")\n",
    "    \n",
    "    plt.subplot(1, 3, 2)\n",
    "    sns.heatmap(B, annot=True, cmap=cmap, fmt=\".3f\", xticklabels=labels, yticklabels=labels)\n",
    "    plt.xlabel('Predicted Class')\n",
    "    plt.ylabel('Original Class')\n",
    "    plt.title(\"Precision matrix\")\n",
    "    \n",
    "    plt.subplot(1, 3, 3)\n",
    "    # representing B in heatmap format\n",
    "    sns.heatmap(A, annot=True, cmap=cmap, fmt=\".3f\", xticklabels=labels, yticklabels=labels)\n",
    "    plt.xlabel('Predicted Class')\n",
    "    plt.ylabel('Original Class')\n",
    "    plt.title(\"Recall matrix\")\n",
    "    \n",
    "    plt.show()"
   ]
  },
  {
   "cell_type": "markdown",
   "metadata": {
    "colab_type": "text",
    "id": "UStQJ5F_tASk"
   },
   "source": [
    "<h2> 4.4 Building a random model (Finding worst-case log-loss) </h2>"
   ]
  },
  {
   "cell_type": "code",
   "execution_count": 54,
   "metadata": {
    "colab": {},
    "colab_type": "code",
    "id": "qwMDqcU7tASl",
    "outputId": "c1e90d53-25ec-445b-e33a-299538520e32"
   },
   "outputs": [
    {
     "name": "stdout",
     "output_type": "stream",
     "text": [
      "Log loss on Test Data using Random Model 0.887388956362789\n"
     ]
    },
    {
     "data": {
      "image/png": "[encoded data removed]",
      "text/plain": [
       "<Figure size 1440x288 with 6 Axes>"
      ]
     },
     "metadata": {
      "needs_background": "light"
     },
     "output_type": "display_data"
    }
   ],
   "source": [
    "# we need to generate 9 numbers and the sum of numbers should be 1\n",
    "# one solution is to genarate 9 numbers and divide each of the numbers by their sum\n",
    "# ref: https://stackoverflow.com/a/18662466/4084039\n",
    "# we create a output array that has exactly same size as the CV data\n",
    "predicted_y = np.zeros((test_len,2))\n",
    "for i in range(test_len):\n",
    "    rand_probs = np.random.rand(1,2)\n",
    "    predicted_y[i] = ((rand_probs/sum(sum(rand_probs)))[0])\n",
    "print(\"Log loss on Test Data using Random Model\",log_loss(y_test, predicted_y, eps=1e-15))\n",
    "\n",
    "predicted_y =np.argmax(predicted_y, axis=1)\n",
    "plot_confusion_matrix(y_test, predicted_y)"
   ]
  },
  {
   "cell_type": "markdown",
   "metadata": {
    "colab_type": "text",
    "id": "YgY29g_qtASq"
   },
   "source": [
    "<h2> 4.4 Logistic Regression with hyperparameter tuning </h2>"
   ]
  },
  {
   "cell_type": "code",
   "execution_count": 55,
   "metadata": {
    "colab": {},
    "colab_type": "code",
    "id": "Wb2tOE3GtASr",
    "outputId": "d7e4fc88-7d4e-4313-cda7-462a2409292e"
   },
   "outputs": [
    {
     "name": "stdout",
     "output_type": "stream",
     "text": [
      "For values of alpha =  1e-05 The log loss is: 0.505177212162014\n",
      "For values of alpha =  0.0001 The log loss is: 0.49106900986742985\n",
      "For values of alpha =  0.001 The log loss is: 0.5027721820871036\n",
      "For values of alpha =  0.01 The log loss is: 0.49106451252788025\n",
      "For values of alpha =  0.1 The log loss is: 0.4677549657548766\n",
      "For values of alpha =  1 The log loss is: 0.49127046936598073\n",
      "For values of alpha =  10 The log loss is: 0.5457561982901757\n"
     ]
    },
    {
     "data": {
      "image/png": "[encoded data removed]",
      "text/plain": [
       "<Figure size 432x288 with 1 Axes>"
      ]
     },
     "metadata": {
      "needs_background": "light"
     },
     "output_type": "display_data"
    },
    {
     "name": "stdout",
     "output_type": "stream",
     "text": [
      "For values of best alpha =  0.1 The train log loss is: 0.4691220756851126\n",
      "For values of best alpha =  0.1 The test log loss is: 0.4677549657548766\n",
      "Total number of data points : 15000\n"
     ]
    },
    {
     "data": {
      "image/png": "[encoded data removed]",
      "text/plain": [
       "<Figure size 1440x288 with 6 Axes>"
      ]
     },
     "metadata": {
      "needs_background": "light"
     },
     "output_type": "display_data"
    }
   ],
   "source": [
    "alpha = [10 ** x for x in range(-5, 2)] # hyperparam for SGD classifier.\n",
    "\n",
    "# read more about SGDClassifier() at http://scikit-learn.org/stable/modules/generated/sklearn.linear_model.SGDClassifier.html\n",
    "# ------------------------------\n",
    "# default parameters\n",
    "# SGDClassifier(loss=’hinge’, penalty=’l2’, alpha=0.0001, l1_ratio=0.15, fit_intercept=True, max_iter=None, tol=None, \n",
    "# shuffle=True, verbose=0, epsilon=0.1, n_jobs=1, random_state=None, learning_rate=’optimal’, eta0=0.0, power_t=0.5, \n",
    "# class_weight=None, warm_start=False, average=False, n_iter=None)\n",
    "\n",
    "# some of methods\n",
    "# fit(X, y[, coef_init, intercept_init, …])\tFit linear model with Stochastic Gradient Descent.\n",
    "# predict(X)\tPredict class labels for samples in X.\n",
    "\n",
    "#-------------------------------\n",
    "# video link: \n",
    "#------------------------------\n",
    "\n",
    "\n",
    "log_error_array=[]\n",
    "for i in alpha:\n",
    "    clf = SGDClassifier(alpha=i, penalty='l2', loss='log', random_state=42)\n",
    "    clf.fit(X_train, y_train)\n",
    "    sig_clf = CalibratedClassifierCV(clf, method=\"sigmoid\")\n",
    "    sig_clf.fit(X_train, y_train)\n",
    "    predict_y = sig_clf.predict_proba(X_test)\n",
    "    log_error_array.append(log_loss(y_test, predict_y, labels=clf.classes_, eps=1e-15))\n",
    "    print('For values of alpha = ', i, \"The log loss is:\",log_loss(y_test, predict_y, labels=clf.classes_, eps=1e-15))\n",
    "\n",
    "fig, ax = plt.subplots()\n",
    "ax.plot(alpha, log_error_array,c='g')\n",
    "for i, txt in enumerate(np.round(log_error_array,3)):\n",
    "    ax.annotate((alpha[i],np.round(txt,3)), (alpha[i],log_error_array[i]))\n",
    "plt.grid()\n",
    "plt.title(\"Cross Validation Error for each alpha\")\n",
    "plt.xlabel(\"Alpha i's\")\n",
    "plt.ylabel(\"Error measure\")\n",
    "plt.show()\n",
    "\n",
    "\n",
    "best_alpha = np.argmin(log_error_array)\n",
    "clf = SGDClassifier(alpha=alpha[best_alpha], penalty='l2', loss='log', random_state=42)\n",
    "clf.fit(X_train, y_train)\n",
    "sig_clf = CalibratedClassifierCV(clf, method=\"sigmoid\")\n",
    "sig_clf.fit(X_train, y_train)\n",
    "\n",
    "predict_y = sig_clf.predict_proba(X_train)\n",
    "print('For values of best alpha = ', alpha[best_alpha], \"The train log loss is:\",log_loss(y_train, predict_y, labels=clf.classes_, eps=1e-15))\n",
    "predict_y = sig_clf.predict_proba(X_test)\n",
    "print('For values of best alpha = ', alpha[best_alpha], \"The test log loss is:\",log_loss(y_test, predict_y, labels=clf.classes_, eps=1e-15))\n",
    "predicted_y =np.argmax(predict_y,axis=1)\n",
    "print(\"Total number of data points :\", len(predicted_y))\n",
    "plot_confusion_matrix(y_test, predicted_y)"
   ]
  },
  {
   "cell_type": "markdown",
   "metadata": {
    "colab_type": "text",
    "id": "ouQSEnr3tASy"
   },
   "source": [
    "<h2> 4.5 Linear SVM with hyperparameter tuning </h2>"
   ]
  },
  {
   "cell_type": "code",
   "execution_count": 56,
   "metadata": {
    "colab": {},
    "colab_type": "code",
    "id": "AOFfZ5PLtAS0",
    "outputId": "d31eb598-e275-48cb-c49b-98e9eb76d8ba"
   },
   "outputs": [
    {
     "name": "stdout",
     "output_type": "stream",
     "text": [
      "For values of alpha =  1e-05 The log loss is: 0.4930447479322765\n",
      "For values of alpha =  0.0001 The log loss is: 0.5039040956002447\n",
      "For values of alpha =  0.001 The log loss is: 0.5105834168552579\n",
      "For values of alpha =  0.01 The log loss is: 0.5030541485020249\n",
      "For values of alpha =  0.1 The log loss is: 0.49959109647437194\n",
      "For values of alpha =  1 The log loss is: 0.5690157128121357\n",
      "For values of alpha =  10 The log loss is: 0.6335160663821808\n"
     ]
    },
    {
     "data": {
      "image/png": "[encoded data removed]",
      "text/plain": [
       "<Figure size 432x288 with 1 Axes>"
      ]
     },
     "metadata": {
      "needs_background": "light"
     },
     "output_type": "display_data"
    },
    {
     "name": "stdout",
     "output_type": "stream",
     "text": [
      "For values of best alpha =  1e-05 The train log loss is: 0.4907209380935635\n",
      "For values of best alpha =  1e-05 The test log loss is: 0.4930447479322765\n",
      "Total number of data points : 15000\n"
     ]
    },
    {
     "data": {
      "image/png": "[encoded data removed]",
      "text/plain": [
       "<Figure size 1440x288 with 6 Axes>"
      ]
     },
     "metadata": {
      "needs_background": "light"
     },
     "output_type": "display_data"
    }
   ],
   "source": [
    "alpha = [10 ** x for x in range(-5, 2)] # hyperparam for SGD classifier.\n",
    "\n",
    "# read more about SGDClassifier() at http://scikit-learn.org/stable/modules/generated/sklearn.linear_model.SGDClassifier.html\n",
    "# ------------------------------\n",
    "# default parameters\n",
    "# SGDClassifier(loss=’hinge’, penalty=’l2’, alpha=0.0001, l1_ratio=0.15, fit_intercept=True, max_iter=None, tol=None, \n",
    "# shuffle=True, verbose=0, epsilon=0.1, n_jobs=1, random_state=None, learning_rate=’optimal’, eta0=0.0, power_t=0.5, \n",
    "# class_weight=None, warm_start=False, average=False, n_iter=None)\n",
    "\n",
    "# some of methods\n",
    "# fit(X, y[, coef_init, intercept_init, …])\tFit linear model with Stochastic Gradient Descent.\n",
    "# predict(X)\tPredict class labels for samples in X.\n",
    "\n",
    "#-------------------------------\n",
    "# video link: \n",
    "#------------------------------\n",
    "\n",
    "\n",
    "log_error_array=[]\n",
    "for i in alpha:\n",
    "    clf = SGDClassifier(alpha=i, penalty='l1', loss='hinge', random_state=42)\n",
    "    clf.fit(X_train, y_train)\n",
    "    sig_clf = CalibratedClassifierCV(clf, method=\"sigmoid\")\n",
    "    sig_clf.fit(X_train, y_train)\n",
    "    predict_y = sig_clf.predict_proba(X_test)\n",
    "    log_error_array.append(log_loss(y_test, predict_y, labels=clf.classes_, eps=1e-15))\n",
    "    print('For values of alpha = ', i, \"The log loss is:\",log_loss(y_test, predict_y, labels=clf.classes_, eps=1e-15))\n",
    "\n",
    "fig, ax = plt.subplots()\n",
    "ax.plot(alpha, log_error_array,c='g')\n",
    "for i, txt in enumerate(np.round(log_error_array,3)):\n",
    "    ax.annotate((alpha[i],np.round(txt,3)), (alpha[i],log_error_array[i]))\n",
    "plt.grid()\n",
    "plt.title(\"Cross Validation Error for each alpha\")\n",
    "plt.xlabel(\"Alpha i's\")\n",
    "plt.ylabel(\"Error measure\")\n",
    "plt.show()\n",
    "\n",
    "\n",
    "best_alpha = np.argmin(log_error_array)\n",
    "clf = SGDClassifier(alpha=alpha[best_alpha], penalty='l1', loss='hinge', random_state=42)\n",
    "clf.fit(X_train, y_train)\n",
    "sig_clf = CalibratedClassifierCV(clf, method=\"sigmoid\")\n",
    "sig_clf.fit(X_train, y_train)\n",
    "\n",
    "predict_y = sig_clf.predict_proba(X_train)\n",
    "print('For values of best alpha = ', alpha[best_alpha], \"The train log loss is:\",log_loss(y_train, predict_y, labels=clf.classes_, eps=1e-15))\n",
    "predict_y = sig_clf.predict_proba(X_test)\n",
    "print('For values of best alpha = ', alpha[best_alpha], \"The test log loss is:\",log_loss(y_test, predict_y, labels=clf.classes_, eps=1e-15))\n",
    "predicted_y =np.argmax(predict_y,axis=1)\n",
    "print(\"Total number of data points :\", len(predicted_y))\n",
    "plot_confusion_matrix(y_test, predicted_y)"
   ]
  },
  {
   "cell_type": "markdown",
   "metadata": {
    "colab_type": "text",
    "id": "ZhTJgclztAS6"
   },
   "source": [
    "<h2> 4.6 XGBoost </h2>"
   ]
  },
  {
   "cell_type": "code",
   "execution_count": 57,
   "metadata": {
    "colab": {},
    "colab_type": "code",
    "id": "9U367-xetAS7",
    "outputId": "167e8588-2ac4-4c6d-ac22-f56a2fce5657"
   },
   "outputs": [
    {
     "name": "stdout",
     "output_type": "stream",
     "text": [
      "[0]\ttrain-logloss:0.684614\tvalid-logloss:0.684653\n",
      "Multiple eval metrics have been passed: 'valid-logloss' will be used for early stopping.\n",
      "\n",
      "Will train until valid-logloss hasn't improved in 20 rounds.\n",
      "[10]\ttrain-logloss:0.614341\tvalid-logloss:0.6145\n",
      "[20]\ttrain-logloss:0.563032\tvalid-logloss:0.563259\n",
      "[30]\ttrain-logloss:0.524489\tvalid-logloss:0.524852\n",
      "[40]\ttrain-logloss:0.494753\tvalid-logloss:0.495211\n",
      "[50]\ttrain-logloss:0.471681\tvalid-logloss:0.472374\n",
      "[60]\ttrain-logloss:0.453339\tvalid-logloss:0.454264\n",
      "[70]\ttrain-logloss:0.438597\tvalid-logloss:0.439788\n",
      "[80]\ttrain-logloss:0.426815\tvalid-logloss:0.42823\n",
      "[90]\ttrain-logloss:0.417122\tvalid-logloss:0.418751\n",
      "[100]\ttrain-logloss:0.409161\tvalid-logloss:0.411012\n",
      "[110]\ttrain-logloss:0.402624\tvalid-logloss:0.404687\n",
      "[120]\ttrain-logloss:0.3968\tvalid-logloss:0.399073\n",
      "[130]\ttrain-logloss:0.391817\tvalid-logloss:0.394265\n",
      "[140]\ttrain-logloss:0.387615\tvalid-logloss:0.390259\n",
      "[150]\ttrain-logloss:0.384226\tvalid-logloss:0.387077\n",
      "[160]\ttrain-logloss:0.381054\tvalid-logloss:0.384151\n",
      "[170]\ttrain-logloss:0.378304\tvalid-logloss:0.381626\n",
      "[180]\ttrain-logloss:0.375771\tvalid-logloss:0.379322\n",
      "[190]\ttrain-logloss:0.373468\tvalid-logloss:0.377312\n",
      "[200]\ttrain-logloss:0.371398\tvalid-logloss:0.375489\n",
      "[210]\ttrain-logloss:0.369584\tvalid-logloss:0.373954\n",
      "[220]\ttrain-logloss:0.367921\tvalid-logloss:0.372582\n",
      "[230]\ttrain-logloss:0.366311\tvalid-logloss:0.371284\n",
      "[240]\ttrain-logloss:0.364816\tvalid-logloss:0.370089\n",
      "[250]\ttrain-logloss:0.363393\tvalid-logloss:0.368982\n",
      "[260]\ttrain-logloss:0.362137\tvalid-logloss:0.368002\n",
      "[270]\ttrain-logloss:0.360931\tvalid-logloss:0.367095\n",
      "[280]\ttrain-logloss:0.359517\tvalid-logloss:0.366068\n",
      "[290]\ttrain-logloss:0.358246\tvalid-logloss:0.365098\n",
      "[300]\ttrain-logloss:0.357183\tvalid-logloss:0.364278\n",
      "[310]\ttrain-logloss:0.355888\tvalid-logloss:0.363362\n",
      "[320]\ttrain-logloss:0.354866\tvalid-logloss:0.362619\n",
      "[330]\ttrain-logloss:0.353841\tvalid-logloss:0.361939\n",
      "[340]\ttrain-logloss:0.352894\tvalid-logloss:0.361276\n",
      "[350]\ttrain-logloss:0.351971\tvalid-logloss:0.360655\n",
      "[360]\ttrain-logloss:0.351016\tvalid-logloss:0.359982\n",
      "[370]\ttrain-logloss:0.350069\tvalid-logloss:0.359329\n",
      "[380]\ttrain-logloss:0.349228\tvalid-logloss:0.358725\n",
      "[390]\ttrain-logloss:0.348224\tvalid-logloss:0.358119\n",
      "[399]\ttrain-logloss:0.347502\tvalid-logloss:0.357685\n",
      "The test log loss is: 0.35768541693933464\n"
     ]
    }
   ],
   "source": [
    "import xgboost as xgb\n",
    "params = {}\n",
    "params['objective'] = 'binary:logistic'\n",
    "params['eval_metric'] = 'logloss'\n",
    "params['eta'] = 0.02\n",
    "params['max_depth'] = 4\n",
    "\n",
    "d_train = xgb.DMatrix(X_train, label=y_train)\n",
    "d_test = xgb.DMatrix(X_test, label=y_test)\n",
    "\n",
    "watchlist = [(d_train, 'train'), (d_test, 'valid')]\n",
    "\n",
    "bst = xgb.train(params, d_train, 400, watchlist, early_stopping_rounds=20, verbose_eval=10)\n",
    "\n",
    "xgdmat = xgb.DMatrix(X_train,y_train)\n",
    "predict_y = bst.predict(d_test)\n",
    "print(\"The test log loss is:\",log_loss(y_test, predict_y, labels=clf.classes_, eps=1e-15))"
   ]
  },
  {
   "cell_type": "code",
   "execution_count": 58,
   "metadata": {
    "colab": {},
    "colab_type": "code",
    "id": "6U5b17AatAS_",
    "outputId": "ca83b680-023b-4bc5-f499-8d8d85c2ff5e"
   },
   "outputs": [
    {
     "name": "stdout",
     "output_type": "stream",
     "text": [
      "Total number of data points : 15000\n"
     ]
    },
    {
     "data": {
      "image/png": "[encoded data removed]",
      "text/plain": [
       "<Figure size 1440x288 with 6 Axes>"
      ]
     },
     "metadata": {
      "needs_background": "light"
     },
     "output_type": "display_data"
    }
   ],
   "source": [
    "predicted_y =np.array(predict_y>0.5,dtype=int)\n",
    "print(\"Total number of data points :\", len(predicted_y))\n",
    "plot_confusion_matrix(y_test, predicted_y)"
   ]
  },
  {
   "cell_type": "markdown",
   "metadata": {
    "colab_type": "text",
    "id": "WmiIgHOJtATF"
   },
   "source": [
    "<h1> 5. Assignments </h1>"
   ]
  },
  {
   "cell_type": "markdown",
   "metadata": {
    "colab_type": "text",
    "id": "CWS6JoB0tATF"
   },
   "source": [
    "1. Try out models (Logistic regression, Linear-SVM) with simple TF-IDF vectors instead of TD_IDF weighted word2Vec.\n",
    "2. Hyperparameter tune XgBoost using RandomSearch to reduce the log-loss.\n"
   ]
  },
  {
   "cell_type": "markdown",
   "metadata": {},
   "source": [
    "# 5.1 Converting data to tfidf values."
   ]
  },
  {
   "cell_type": "code",
   "execution_count": 59,
   "metadata": {},
   "outputs": [],
   "source": [
    "#prepro_features_train.csv (Simple Preprocessing Feartures)\n",
    "#nlp_features_train.csv (NLP Features)\n",
    "if os.path.isfile('nlp_features_train.csv'):\n",
    "    dfnlp = pd.read_csv(\"nlp_features_train.csv\",encoding='latin-1')\n",
    "else:\n",
    "    print(\"download nlp_features_train.csv from drive or run previous notebook\")\n",
    "\n",
    "if os.path.isfile('df_fe_without_preprocessing_train.csv'):\n",
    "    dfppro = pd.read_csv(\"df_fe_without_preprocessing_train.csv\",encoding='latin-1')\n",
    "else:\n",
    "    print(\"download df_fe_without_preprocessing_train.csv from drive or run previous notebook\")"
   ]
  },
  {
   "cell_type": "code",
   "execution_count": 60,
   "metadata": {},
   "outputs": [],
   "source": [
    "dfnlp = dfnlp[0:100001]\n",
    "dfppro = dfppro[0:100001]\n",
    "df1 = pd.DataFrame(dfnlp['question1'].apply(lambda x: str(x)), columns = ['question1'])\n",
    "df1['question2'] = dfnlp['question2'].apply(lambda x: str(x))\n",
    "# df1['question1'] = dfnlp['question1'].apply(lambda x: str(x))\n",
    "# df1['question2'] = dfnlp['question2'].apply(lambda x: str(x))"
   ]
  },
  {
   "cell_type": "code",
   "execution_count": 61,
   "metadata": {},
   "outputs": [],
   "source": [
    "# df1 = dfnlp.drop(['qid1','qid2','question1','question2'],axis=1)\n",
    "df2 = dfppro.drop(['qid1','qid2','question1','question2','is_duplicate'],axis=1)"
   ]
  },
  {
   "cell_type": "code",
   "execution_count": 62,
   "metadata": {},
   "outputs": [],
   "source": [
    "df1  = dfnlp.merge(df2, on='id',how='left')"
   ]
  },
  {
   "cell_type": "code",
   "execution_count": 63,
   "metadata": {},
   "outputs": [],
   "source": [
    "df1 = df1[0:100001]"
   ]
  },
  {
   "cell_type": "code",
   "execution_count": 64,
   "metadata": {},
   "outputs": [],
   "source": [
    "# print(type(dfnlp))"
   ]
  },
  {
   "cell_type": "code",
   "execution_count": 65,
   "metadata": {},
   "outputs": [],
   "source": [
    "Y = dfppro[0:100001]['is_duplicate']"
   ]
  },
  {
   "cell_type": "code",
   "execution_count": 66,
   "metadata": {},
   "outputs": [
    {
     "data": {
      "text/html": [
       "<div>\n",
       "<style scoped>\n",
       "    .dataframe tbody tr th:only-of-type {\n",
       "        vertical-align: middle;\n",
       "    }\n",
       "\n",
       "    .dataframe tbody tr th {\n",
       "        vertical-align: top;\n",
       "    }\n",
       "\n",
       "    .dataframe thead th {\n",
       "        text-align: right;\n",
       "    }\n",
       "</style>\n",
       "<table border=\"1\" class=\"dataframe\">\n",
       "  <thead>\n",
       "    <tr style=\"text-align: right;\">\n",
       "      <th></th>\n",
       "      <th>id</th>\n",
       "      <th>qid1</th>\n",
       "      <th>qid2</th>\n",
       "      <th>question1</th>\n",
       "      <th>question2</th>\n",
       "      <th>is_duplicate</th>\n",
       "      <th>cwc_min</th>\n",
       "      <th>cwc_max</th>\n",
       "      <th>csc_min</th>\n",
       "      <th>csc_max</th>\n",
       "      <th>...</th>\n",
       "      <th>freq_qid2</th>\n",
       "      <th>q1len</th>\n",
       "      <th>q2len</th>\n",
       "      <th>q1_n_words</th>\n",
       "      <th>q2_n_words</th>\n",
       "      <th>word_Common</th>\n",
       "      <th>word_Total</th>\n",
       "      <th>word_share</th>\n",
       "      <th>freq_q1+q2</th>\n",
       "      <th>freq_q1-q2</th>\n",
       "    </tr>\n",
       "  </thead>\n",
       "  <tbody>\n",
       "    <tr>\n",
       "      <th>0</th>\n",
       "      <td>0</td>\n",
       "      <td>1</td>\n",
       "      <td>2</td>\n",
       "      <td>what is the step by step guide to invest in sh...</td>\n",
       "      <td>what is the step by step guide to invest in sh...</td>\n",
       "      <td>0</td>\n",
       "      <td>0.999980</td>\n",
       "      <td>0.833319</td>\n",
       "      <td>0.999983</td>\n",
       "      <td>0.999983</td>\n",
       "      <td>...</td>\n",
       "      <td>1</td>\n",
       "      <td>66</td>\n",
       "      <td>57</td>\n",
       "      <td>14</td>\n",
       "      <td>12</td>\n",
       "      <td>10.0</td>\n",
       "      <td>23.0</td>\n",
       "      <td>0.434783</td>\n",
       "      <td>2</td>\n",
       "      <td>0</td>\n",
       "    </tr>\n",
       "    <tr>\n",
       "      <th>1</th>\n",
       "      <td>1</td>\n",
       "      <td>3</td>\n",
       "      <td>4</td>\n",
       "      <td>what is the story of kohinoor  koh i noor  dia...</td>\n",
       "      <td>what would happen if the indian government sto...</td>\n",
       "      <td>0</td>\n",
       "      <td>0.799984</td>\n",
       "      <td>0.399996</td>\n",
       "      <td>0.749981</td>\n",
       "      <td>0.599988</td>\n",
       "      <td>...</td>\n",
       "      <td>1</td>\n",
       "      <td>51</td>\n",
       "      <td>88</td>\n",
       "      <td>8</td>\n",
       "      <td>13</td>\n",
       "      <td>4.0</td>\n",
       "      <td>20.0</td>\n",
       "      <td>0.200000</td>\n",
       "      <td>5</td>\n",
       "      <td>3</td>\n",
       "    </tr>\n",
       "    <tr>\n",
       "      <th>2</th>\n",
       "      <td>2</td>\n",
       "      <td>5</td>\n",
       "      <td>6</td>\n",
       "      <td>how can i increase the speed of my internet co...</td>\n",
       "      <td>how can internet speed be increased by hacking...</td>\n",
       "      <td>0</td>\n",
       "      <td>0.399992</td>\n",
       "      <td>0.333328</td>\n",
       "      <td>0.399992</td>\n",
       "      <td>0.249997</td>\n",
       "      <td>...</td>\n",
       "      <td>1</td>\n",
       "      <td>73</td>\n",
       "      <td>59</td>\n",
       "      <td>14</td>\n",
       "      <td>10</td>\n",
       "      <td>4.0</td>\n",
       "      <td>24.0</td>\n",
       "      <td>0.166667</td>\n",
       "      <td>2</td>\n",
       "      <td>0</td>\n",
       "    </tr>\n",
       "    <tr>\n",
       "      <th>3</th>\n",
       "      <td>3</td>\n",
       "      <td>7</td>\n",
       "      <td>8</td>\n",
       "      <td>why am i mentally very lonely  how can i solve...</td>\n",
       "      <td>find the remainder when  math 23  24   math  i...</td>\n",
       "      <td>0</td>\n",
       "      <td>0.000000</td>\n",
       "      <td>0.000000</td>\n",
       "      <td>0.000000</td>\n",
       "      <td>0.000000</td>\n",
       "      <td>...</td>\n",
       "      <td>1</td>\n",
       "      <td>50</td>\n",
       "      <td>65</td>\n",
       "      <td>11</td>\n",
       "      <td>9</td>\n",
       "      <td>0.0</td>\n",
       "      <td>19.0</td>\n",
       "      <td>0.000000</td>\n",
       "      <td>2</td>\n",
       "      <td>0</td>\n",
       "    </tr>\n",
       "    <tr>\n",
       "      <th>4</th>\n",
       "      <td>4</td>\n",
       "      <td>9</td>\n",
       "      <td>10</td>\n",
       "      <td>which one dissolve in water quikly sugar  salt...</td>\n",
       "      <td>which fish would survive in salt water</td>\n",
       "      <td>0</td>\n",
       "      <td>0.399992</td>\n",
       "      <td>0.199998</td>\n",
       "      <td>0.999950</td>\n",
       "      <td>0.666644</td>\n",
       "      <td>...</td>\n",
       "      <td>1</td>\n",
       "      <td>76</td>\n",
       "      <td>39</td>\n",
       "      <td>13</td>\n",
       "      <td>7</td>\n",
       "      <td>2.0</td>\n",
       "      <td>20.0</td>\n",
       "      <td>0.100000</td>\n",
       "      <td>4</td>\n",
       "      <td>2</td>\n",
       "    </tr>\n",
       "  </tbody>\n",
       "</table>\n",
       "<p>5 rows × 32 columns</p>\n",
       "</div>"
      ],
      "text/plain": [
       "   id  qid1  qid2                                          question1  \\\n",
       "0   0     1     2  what is the step by step guide to invest in sh...   \n",
       "1   1     3     4  what is the story of kohinoor  koh i noor  dia...   \n",
       "2   2     5     6  how can i increase the speed of my internet co...   \n",
       "3   3     7     8  why am i mentally very lonely  how can i solve...   \n",
       "4   4     9    10  which one dissolve in water quikly sugar  salt...   \n",
       "\n",
       "                                           question2  is_duplicate   cwc_min  \\\n",
       "0  what is the step by step guide to invest in sh...             0  0.999980   \n",
       "1  what would happen if the indian government sto...             0  0.799984   \n",
       "2  how can internet speed be increased by hacking...             0  0.399992   \n",
       "3  find the remainder when  math 23  24   math  i...             0  0.000000   \n",
       "4            which fish would survive in salt water              0  0.399992   \n",
       "\n",
       "    cwc_max   csc_min   csc_max     ...      freq_qid2  q1len  q2len  \\\n",
       "0  0.833319  0.999983  0.999983     ...              1     66     57   \n",
       "1  0.399996  0.749981  0.599988     ...              1     51     88   \n",
       "2  0.333328  0.399992  0.249997     ...              1     73     59   \n",
       "3  0.000000  0.000000  0.000000     ...              1     50     65   \n",
       "4  0.199998  0.999950  0.666644     ...              1     76     39   \n",
       "\n",
       "   q1_n_words  q2_n_words  word_Common  word_Total  word_share  freq_q1+q2  \\\n",
       "0          14          12         10.0        23.0    0.434783           2   \n",
       "1           8          13          4.0        20.0    0.200000           5   \n",
       "2          14          10          4.0        24.0    0.166667           2   \n",
       "3          11           9          0.0        19.0    0.000000           2   \n",
       "4          13           7          2.0        20.0    0.100000           4   \n",
       "\n",
       "   freq_q1-q2  \n",
       "0           0  \n",
       "1           3  \n",
       "2           0  \n",
       "3           0  \n",
       "4           2  \n",
       "\n",
       "[5 rows x 32 columns]"
      ]
     },
     "execution_count": 66,
     "metadata": {},
     "output_type": "execute_result"
    }
   ],
   "source": [
    "df1.head()"
   ]
  },
  {
   "cell_type": "code",
   "execution_count": 77,
   "metadata": {},
   "outputs": [
    {
     "name": "stdout",
     "output_type": "stream",
     "text": [
      "(100001, 32)\n"
     ]
    }
   ],
   "source": [
    "print(df1.shape)"
   ]
  },
  {
   "cell_type": "code",
   "execution_count": 68,
   "metadata": {},
   "outputs": [],
   "source": [
    "X_train,X_test, y_train, y_test = train_test_split(df1, Y, stratify=Y, test_size=0.3)"
   ]
  },
  {
   "cell_type": "code",
   "execution_count": 69,
   "metadata": {},
   "outputs": [],
   "source": [
    "# X_train"
   ]
  },
  {
   "cell_type": "code",
   "execution_count": 70,
   "metadata": {},
   "outputs": [
    {
     "name": "stdout",
     "output_type": "stream",
     "text": [
      "the shape of out text TFIDF vectorizer  (70000, 31209)\n",
      "the shape of out text TFIDF vectorizer  (30001, 31209)\n",
      "the number of unique words including both unigrams and bigrams  (70000, 29159)\n",
      "the shape of out text TFIDF vectorizer  (30001, 29159)\n"
     ]
    }
   ],
   "source": [
    "from sklearn.feature_extraction.text import TfidfVectorizer\n",
    "from sklearn.feature_extraction.text import CountVectorizer\n",
    "# merge texts\n",
    "# questions = list(df['question1']) + list(df['question2'])\n",
    "\n",
    "tfidf_question1 = TfidfVectorizer(lowercase=False, )\n",
    "tfidf_question1.fit(X_train['question1'].apply(lambda x: str(x)))\n",
    "tfidf_question1_train = tfidf_question1.transform(X_train['question1'].apply(lambda x: str(x)))\n",
    "tfidf_question1_test = tfidf_question1.transform(X_test['question1'].apply(lambda x: str(x)))\n",
    "\n",
    "tfidf_question2 = TfidfVectorizer(lowercase=False, )\n",
    "tfidf_question2.fit(X_train['question2'].apply(lambda x: str(x)))\n",
    "tfidf_question2_train = tfidf_question2.transform(X_train['question2'].apply(lambda x: str(x)))\n",
    "tfidf_question2_test = tfidf_question2.transform(X_test['question2'].apply(lambda x: str(x)))\n",
    "\n",
    "print(\"the shape of out text TFIDF vectorizer \",tfidf_question1_train.get_shape())\n",
    "print(\"the shape of out text TFIDF vectorizer \",tfidf_question1_test.get_shape())\n",
    "print(\"the number of unique words including both unigrams and bigrams \", tfidf_question2_train.get_shape())\n",
    "print(\"the shape of out text TFIDF vectorizer \",tfidf_question2_test.get_shape())\n",
    "# dict key:word and value:tf-idf score\n",
    "# word2tfidf = dict(zip(tfidf.get_feature_names(), tfidf.idf_))"
   ]
  },
  {
   "cell_type": "code",
   "execution_count": 71,
   "metadata": {},
   "outputs": [],
   "source": [
    "from scipy import sparse\n",
    "\n",
    "#Save\n",
    "sparse.save_npz('tfidf_question1_train.npz', tfidf_question1_train)\n",
    "sparse.save_npz('tfidf_question2_train.npz', tfidf_question2_train)\n",
    "sparse.save_npz('tfidf_question1_test.npz', tfidf_question1_test)\n",
    "sparse.save_npz('tfidf_question2_test.npz', tfidf_question2_test)\n",
    "\n",
    "#Load\n",
    "# data = sparse.load_npz(\"data_sparse.npz\")"
   ]
  },
  {
   "cell_type": "code",
   "execution_count": 72,
   "metadata": {},
   "outputs": [],
   "source": [
    "# removing the 'qid1','qid2','question1','question2','is_duplicate' columns from train and test data.\n",
    "X_train = X_train.drop([ 'qid1','qid2','question1','question2','is_duplicate'],axis=1)\n",
    "X_test = X_test.drop([ 'qid1','qid2','question1','question2','is_duplicate'],axis=1)"
   ]
  },
  {
   "cell_type": "markdown",
   "metadata": {},
   "source": [
    "# merging train and test data to tfidf vecter of train and test data"
   ]
  },
  {
   "cell_type": "code",
   "execution_count": 73,
   "metadata": {},
   "outputs": [],
   "source": [
    "mat_train = sparse.hstack((X_train,tfidf_question1_train))\n",
    "mat_test = sparse.hstack((X_test,tfidf_question1_test))"
   ]
  },
  {
   "cell_type": "code",
   "execution_count": 74,
   "metadata": {},
   "outputs": [],
   "source": [
    "mat_train = sparse.hstack((mat_train,tfidf_question2_train))\n",
    "mat_test = sparse.hstack((mat_test,tfidf_question2_test))"
   ]
  },
  {
   "cell_type": "code",
   "execution_count": 75,
   "metadata": {},
   "outputs": [
    {
     "data": {
      "text/plain": [
       "<30001x60395 sparse matrix of type '<class 'numpy.float64'>'\n",
       "\twith 1328560 stored elements in COOrdinate format>"
      ]
     },
     "execution_count": 75,
     "metadata": {},
     "output_type": "execute_result"
    }
   ],
   "source": [
    "mat_test"
   ]
  },
  {
   "cell_type": "markdown",
   "metadata": {},
   "source": [
    "# 5.2 Logistic Regression"
   ]
  },
  {
   "cell_type": "code",
   "execution_count": 76,
   "metadata": {
    "scrolled": false
   },
   "outputs": [
    {
     "name": "stdout",
     "output_type": "stream",
     "text": [
      "For values of alpha =  1e-05 The log loss is: 0.6602837380294572\n",
      "For values of alpha =  0.0001 The log loss is: 0.6602837380294572\n",
      "For values of alpha =  0.001 The log loss is: 0.6602837380294572\n",
      "For values of alpha =  0.01 The log loss is: 0.6602837380294572\n",
      "For values of alpha =  0.1 The log loss is: 0.6602837380294572\n",
      "For values of alpha =  1 The log loss is: 0.6602837380294572\n",
      "For values of alpha =  10 The log loss is: 0.6602837380294572\n"
     ]
    },
    {
     "data": {
      "image/png": "[encoded data removed]",
      "text/plain": [
       "<Figure size 432x288 with 1 Axes>"
      ]
     },
     "metadata": {
      "needs_background": "light"
     },
     "output_type": "display_data"
    },
    {
     "name": "stdout",
     "output_type": "stream",
     "text": [
      "For values of best alpha =  1e-05 The train log loss is: 0.6602951754487361\n",
      "For values of best alpha =  1e-05 The test log loss is: 0.6602837380294572\n",
      "Total number of data points : 30001\n"
     ]
    },
    {
     "data": {
      "image/png": "[encoded data removed]",
      "text/plain": [
       "<Figure size 1440x288 with 6 Axes>"
      ]
     },
     "metadata": {
      "needs_background": "light"
     },
     "output_type": "display_data"
    }
   ],
   "source": [
    "alpha = [10 ** x for x in range(-5, 2)] # hyperparam for SGD classifier.\n",
    "\n",
    "# read more about SGDClassifier() at http://scikit-learn.org/stable/modules/generated/sklearn.linear_model.SGDClassifier.html\n",
    "# ------------------------------\n",
    "# default parameters\n",
    "# SGDClassifier(loss=’hinge’, penalty=’l2’, alpha=0.0001, l1_ratio=0.15, fit_intercept=True, max_iter=None, tol=None, \n",
    "# shuffle=True, verbose=0, epsilon=0.1, n_jobs=1, random_state=None, learning_rate=’optimal’, eta0=0.0, power_t=0.5, \n",
    "# class_weight=None, warm_start=False, average=False, n_iter=None)\n",
    "\n",
    "# some of methods\n",
    "# fit(X, y[, coef_init, intercept_init, …])\tFit linear model with Stochastic Gradient Descent.\n",
    "# predict(X)\tPredict class labels for samples in X.\n",
    "\n",
    "#-------------------------------\n",
    "# video link: \n",
    "#------------------------------\n",
    "\n",
    "\n",
    "log_error_array=[]\n",
    "for i in alpha:\n",
    "    clf = SGDClassifier(alpha=i, penalty='l2', loss='log', random_state=42)\n",
    "    clf.fit(mat_train, y_train)\n",
    "    sig_clf = CalibratedClassifierCV(clf, method=\"sigmoid\")\n",
    "    sig_clf.fit(mat_train, y_train)\n",
    "    predict_y = sig_clf.predict_proba(mat_test)\n",
    "    log_error_array.append(log_loss(y_test, predict_y, labels=clf.classes_, eps=1e-15))\n",
    "    print('For values of alpha = ', i, \"The log loss is:\",log_loss(y_test, predict_y, labels=clf.classes_, eps=1e-15))\n",
    "\n",
    "fig, ax = plt.subplots()\n",
    "ax.plot(alpha, log_error_array,c='g')\n",
    "for i, txt in enumerate(np.round(log_error_array,3)):\n",
    "    ax.annotate((alpha[i],np.round(txt,3)), (alpha[i],log_error_array[i]))\n",
    "plt.grid()\n",
    "plt.title(\"Cross Validation Error for each alpha\")\n",
    "plt.xlabel(\"Alpha i's\")\n",
    "plt.ylabel(\"Error measure\")\n",
    "plt.show()\n",
    "\n",
    "\n",
    "best_alpha = np.argmin(log_error_array)\n",
    "clf = SGDClassifier(alpha=alpha[best_alpha], penalty='l2', loss='log', random_state=42)\n",
    "clf.fit(mat_train, y_train)\n",
    "sig_clf = CalibratedClassifierCV(clf, method=\"sigmoid\")\n",
    "sig_clf.fit(mat_train, y_train)\n",
    "\n",
    "predict_y = sig_clf.predict_proba(mat_train)\n",
    "print('For values of best alpha = ', alpha[best_alpha], \"The train log loss is:\",log_loss(y_train, predict_y, labels=clf.classes_, eps=1e-15))\n",
    "predict_y = sig_clf.predict_proba(mat_test)\n",
    "print('For values of best alpha = ', alpha[best_alpha], \"The test log loss is:\",log_loss(y_test, predict_y, labels=clf.classes_, eps=1e-15))\n",
    "predicted_y =np.argmax(predict_y,axis=1)\n",
    "print(\"Total number of data points :\", len(predicted_y))\n",
    "plot_confusion_matrix(y_test, predicted_y)"
   ]
  },
  {
   "cell_type": "markdown",
   "metadata": {},
   "source": [
    "for alpha = 10 loss is minimum, we are getting 62.7% precision and 100% recall for the questions that are not similar and 0% precision 0% recall for the questions that are similar."
   ]
  },
  {
   "cell_type": "markdown",
   "metadata": {},
   "source": [
    "# <h2> 5.3 Linear SVM with hyperparameter tuning </h2>"
   ]
  },
  {
   "cell_type": "code",
   "execution_count": 78,
   "metadata": {
    "scrolled": false
   },
   "outputs": [
    {
     "name": "stdout",
     "output_type": "stream",
     "text": [
      "For values of alpha =  1e-05 The log loss is: 0.6602837380294572\n",
      "For values of alpha =  0.0001 The log loss is: 0.6602837380294572\n",
      "For values of alpha =  0.001 The log loss is: 0.6602837380294572\n",
      "For values of alpha =  0.01 The log loss is: 0.6602837380294572\n",
      "For values of alpha =  0.1 The log loss is: 0.6363809956504088\n",
      "For values of alpha =  1 The log loss is: 0.6133124735195263\n",
      "For values of alpha =  10 The log loss is: 0.6559659202502899\n"
     ]
    },
    {
     "data": {
      "image/png": "[encoded data removed]",
      "text/plain": [
       "<Figure size 432x288 with 1 Axes>"
      ]
     },
     "metadata": {
      "needs_background": "light"
     },
     "output_type": "display_data"
    },
    {
     "name": "stdout",
     "output_type": "stream",
     "text": [
      "For values of best alpha =  1 The train log loss is: 0.6129915033470172\n",
      "For values of best alpha =  1 The test log loss is: 0.6133124735195263\n",
      "Total number of data points : 30001\n"
     ]
    },
    {
     "data": {
      "image/png": "[encoded data removed]",
      "text/plain": [
       "<Figure size 1440x288 with 6 Axes>"
      ]
     },
     "metadata": {
      "needs_background": "light"
     },
     "output_type": "display_data"
    }
   ],
   "source": [
    "alpha = [10 ** x for x in range(-5, 2)] # hyperparam for SGD classifier.\n",
    "\n",
    "# read more about SGDClassifier() at http://scikit-learn.org/stable/modules/generated/sklearn.linear_model.SGDClassifier.html\n",
    "# ------------------------------\n",
    "# default parameters\n",
    "# SGDClassifier(loss=’hinge’, penalty=’l2’, alpha=0.0001, l1_ratio=0.15, fit_intercept=True, max_iter=None, tol=None, \n",
    "# shuffle=True, verbose=0, epsilon=0.1, n_jobs=1, random_state=None, learning_rate=’optimal’, eta0=0.0, power_t=0.5, \n",
    "# class_weight=None, warm_start=False, average=False, n_iter=None)\n",
    "\n",
    "# some of methods\n",
    "# fit(X, y[, coef_init, intercept_init, …])\tFit linear model with Stochastic Gradient Descent.\n",
    "# predict(X)\tPredict class labels for samples in X.\n",
    "\n",
    "#-------------------------------\n",
    "# video link: \n",
    "#------------------------------\n",
    "\n",
    "\n",
    "log_error_array=[]\n",
    "for i in alpha:\n",
    "    clf = SGDClassifier(alpha=i, penalty='l1', loss='hinge', random_state=42)\n",
    "    clf.fit(mat_train, y_train)\n",
    "    sig_clf = CalibratedClassifierCV(clf, method=\"sigmoid\")\n",
    "    sig_clf.fit(mat_train, y_train)\n",
    "    predict_y = sig_clf.predict_proba(mat_test)\n",
    "    log_error_array.append(log_loss(y_test, predict_y, labels=clf.classes_, eps=1e-15))\n",
    "    print('For values of alpha = ', i, \"The log loss is:\",log_loss(y_test, predict_y, labels=clf.classes_, eps=1e-15))\n",
    "\n",
    "fig, ax = plt.subplots()\n",
    "ax.plot(alpha, log_error_array,c='g')\n",
    "for i, txt in enumerate(np.round(log_error_array,3)):\n",
    "    ax.annotate((alpha[i],np.round(txt,3)), (alpha[i],log_error_array[i]))\n",
    "plt.grid()\n",
    "plt.title(\"Cross Validation Error for each alpha\")\n",
    "plt.xlabel(\"Alpha i's\")\n",
    "plt.ylabel(\"Error measure\")\n",
    "plt.show()\n",
    "\n",
    "\n",
    "best_alpha = np.argmin(log_error_array)\n",
    "clf = SGDClassifier(alpha=alpha[best_alpha], penalty='l1', loss='hinge', random_state=42)\n",
    "clf.fit(mat_train, y_train)\n",
    "sig_clf = CalibratedClassifierCV(clf, method=\"sigmoid\")\n",
    "sig_clf.fit(mat_train, y_train)\n",
    "\n",
    "predict_y = sig_clf.predict_proba(mat_train)\n",
    "print('For values of best alpha = ', alpha[best_alpha], \"The train log loss is:\",log_loss(y_train, predict_y, labels=clf.classes_, eps=1e-15))\n",
    "predict_y = sig_clf.predict_proba(mat_test)\n",
    "print('For values of best alpha = ', alpha[best_alpha], \"The test log loss is:\",log_loss(y_test, predict_y, labels=clf.classes_, eps=1e-15))\n",
    "predicted_y =np.argmax(predict_y,axis=1)\n",
    "print(\"Total number of data points :\", len(predicted_y))\n",
    "plot_confusion_matrix(y_test, predicted_y)"
   ]
  },
  {
   "cell_type": "markdown",
   "metadata": {},
   "source": [
    "for alpha = 1 loss is minimum, we are getting 64.2% precision and 94.1% recall for the questions that are not similar and 58.1% precision 13.7% recall for the questions that are similar."
   ]
  },
  {
   "cell_type": "markdown",
   "metadata": {},
   "source": [
    "# 5.4 XGBoost Approch"
   ]
  },
  {
   "cell_type": "code",
   "execution_count": 79,
   "metadata": {
    "scrolled": false
   },
   "outputs": [
    {
     "name": "stdout",
     "output_type": "stream",
     "text": [
      "XGBoost for the depth of  4\n",
      "[0]\ttrain-logloss:0.684881\tvalid-logloss:0.684887\n",
      "Multiple eval metrics have been passed: 'valid-logloss' will be used for early stopping.\n",
      "\n",
      "Will train until valid-logloss hasn't improved in 20 rounds.\n",
      "[10]\ttrain-logloss:0.616211\tvalid-logloss:0.616721\n",
      "[20]\ttrain-logloss:0.5655\tvalid-logloss:0.566324\n",
      "[30]\ttrain-logloss:0.527334\tvalid-logloss:0.528541\n",
      "[40]\ttrain-logloss:0.497837\tvalid-logloss:0.499237\n",
      "[50]\ttrain-logloss:0.474863\tvalid-logloss:0.476451\n",
      "[60]\ttrain-logloss:0.456681\tvalid-logloss:0.458359\n",
      "[70]\ttrain-logloss:0.442033\tvalid-logloss:0.443809\n",
      "[80]\ttrain-logloss:0.430242\tvalid-logloss:0.432075\n",
      "[90]\ttrain-logloss:0.420744\tvalid-logloss:0.422544\n",
      "[100]\ttrain-logloss:0.412526\tvalid-logloss:0.414388\n",
      "[110]\ttrain-logloss:0.40587\tvalid-logloss:0.407764\n",
      "[120]\ttrain-logloss:0.400213\tvalid-logloss:0.40216\n",
      "[130]\ttrain-logloss:0.39541\tvalid-logloss:0.397401\n",
      "[140]\ttrain-logloss:0.391108\tvalid-logloss:0.393322\n",
      "[150]\ttrain-logloss:0.387331\tvalid-logloss:0.389668\n",
      "[160]\ttrain-logloss:0.384372\tvalid-logloss:0.386825\n",
      "[170]\ttrain-logloss:0.381689\tvalid-logloss:0.384317\n",
      "[180]\ttrain-logloss:0.379212\tvalid-logloss:0.381993\n",
      "[190]\ttrain-logloss:0.377113\tvalid-logloss:0.380048\n",
      "[200]\ttrain-logloss:0.375216\tvalid-logloss:0.378308\n",
      "[210]\ttrain-logloss:0.373405\tvalid-logloss:0.376658\n",
      "[220]\ttrain-logloss:0.371868\tvalid-logloss:0.375249\n",
      "[230]\ttrain-logloss:0.370376\tvalid-logloss:0.373888\n",
      "[240]\ttrain-logloss:0.36896\tvalid-logloss:0.372612\n",
      "[250]\ttrain-logloss:0.367627\tvalid-logloss:0.371396\n",
      "[260]\ttrain-logloss:0.366345\tvalid-logloss:0.370267\n",
      "[270]\ttrain-logloss:0.36522\tvalid-logloss:0.369271\n",
      "[280]\ttrain-logloss:0.364022\tvalid-logloss:0.368225\n",
      "[290]\ttrain-logloss:0.363045\tvalid-logloss:0.367352\n",
      "[300]\ttrain-logloss:0.361963\tvalid-logloss:0.366408\n",
      "[310]\ttrain-logloss:0.360928\tvalid-logloss:0.36551\n",
      "[320]\ttrain-logloss:0.360029\tvalid-logloss:0.364774\n",
      "[330]\ttrain-logloss:0.359108\tvalid-logloss:0.363996\n",
      "[340]\ttrain-logloss:0.358192\tvalid-logloss:0.363222\n",
      "[350]\ttrain-logloss:0.357477\tvalid-logloss:0.362633\n",
      "[360]\ttrain-logloss:0.356656\tvalid-logloss:0.361948\n",
      "[370]\ttrain-logloss:0.356013\tvalid-logloss:0.361421\n",
      "[380]\ttrain-logloss:0.355147\tvalid-logloss:0.360696\n",
      "[390]\ttrain-logloss:0.35448\tvalid-logloss:0.360138\n",
      "[399]\ttrain-logloss:0.353753\tvalid-logloss:0.359541\n",
      "The test log loss is: 0.3595401997780125\n",
      "XGBoost for the depth of  8\n",
      "[0]\ttrain-logloss:0.683086\tvalid-logloss:0.683317\n",
      "Multiple eval metrics have been passed: 'valid-logloss' will be used for early stopping.\n",
      "\n",
      "Will train until valid-logloss hasn't improved in 20 rounds.\n",
      "[10]\ttrain-logloss:0.600704\tvalid-logloss:0.603177\n",
      "[20]\ttrain-logloss:0.54182\tvalid-logloss:0.546321\n",
      "[30]\ttrain-logloss:0.497628\tvalid-logloss:0.504262\n",
      "[40]\ttrain-logloss:0.463688\tvalid-logloss:0.47228\n",
      "[50]\ttrain-logloss:0.437204\tvalid-logloss:0.447517\n",
      "[60]\ttrain-logloss:0.41611\tvalid-logloss:0.428177\n",
      "[70]\ttrain-logloss:0.399239\tvalid-logloss:0.412773\n",
      "[80]\ttrain-logloss:0.385571\tvalid-logloss:0.400539\n",
      "[90]\ttrain-logloss:0.37451\tvalid-logloss:0.39061\n",
      "[100]\ttrain-logloss:0.365426\tvalid-logloss:0.382651\n",
      "[110]\ttrain-logloss:0.358053\tvalid-logloss:0.376295\n",
      "[120]\ttrain-logloss:0.351426\tvalid-logloss:0.370954\n",
      "[130]\ttrain-logloss:0.345925\tvalid-logloss:0.366589\n",
      "[140]\ttrain-logloss:0.341467\tvalid-logloss:0.362985\n",
      "[150]\ttrain-logloss:0.337714\tvalid-logloss:0.360097\n",
      "[160]\ttrain-logloss:0.334644\tvalid-logloss:0.357772\n",
      "[170]\ttrain-logloss:0.33198\tvalid-logloss:0.355725\n",
      "[180]\ttrain-logloss:0.32961\tvalid-logloss:0.354028\n",
      "[190]\ttrain-logloss:0.327585\tvalid-logloss:0.352626\n",
      "[200]\ttrain-logloss:0.325667\tvalid-logloss:0.351269\n",
      "[210]\ttrain-logloss:0.323921\tvalid-logloss:0.350135\n",
      "[220]\ttrain-logloss:0.322276\tvalid-logloss:0.349137\n",
      "[230]\ttrain-logloss:0.320842\tvalid-logloss:0.348329\n",
      "[240]\ttrain-logloss:0.319571\tvalid-logloss:0.34761\n",
      "[250]\ttrain-logloss:0.318315\tvalid-logloss:0.346981\n",
      "[260]\ttrain-logloss:0.317365\tvalid-logloss:0.346496\n",
      "[270]\ttrain-logloss:0.316235\tvalid-logloss:0.345953\n",
      "[280]\ttrain-logloss:0.31505\tvalid-logloss:0.345467\n",
      "[290]\ttrain-logloss:0.31393\tvalid-logloss:0.345036\n",
      "[300]\ttrain-logloss:0.312788\tvalid-logloss:0.344633\n",
      "[310]\ttrain-logloss:0.311684\tvalid-logloss:0.344261\n",
      "[320]\ttrain-logloss:0.310764\tvalid-logloss:0.343934\n",
      "[330]\ttrain-logloss:0.309666\tvalid-logloss:0.343537\n",
      "[340]\ttrain-logloss:0.308539\tvalid-logloss:0.343145\n",
      "[350]\ttrain-logloss:0.307411\tvalid-logloss:0.342767\n",
      "[360]\ttrain-logloss:0.30633\tvalid-logloss:0.34248\n",
      "[370]\ttrain-logloss:0.305288\tvalid-logloss:0.342191\n",
      "[380]\ttrain-logloss:0.304077\tvalid-logloss:0.341955\n",
      "[390]\ttrain-logloss:0.303022\tvalid-logloss:0.341736\n",
      "[399]\ttrain-logloss:0.302311\tvalid-logloss:0.341619\n",
      "The test log loss is: 0.3416195735509982\n",
      "XGBoost for the depth of  16\n",
      "[0]\ttrain-logloss:0.680769\tvalid-logloss:0.682782\n",
      "Multiple eval metrics have been passed: 'valid-logloss' will be used for early stopping.\n",
      "\n",
      "Will train until valid-logloss hasn't improved in 20 rounds.\n",
      "[10]\ttrain-logloss:0.57909\tvalid-logloss:0.598512\n",
      "[20]\ttrain-logloss:0.502812\tvalid-logloss:0.538576\n",
      "[30]\ttrain-logloss:0.443996\tvalid-logloss:0.49504\n",
      "[40]\ttrain-logloss:0.397896\tvalid-logloss:0.462566\n",
      "[50]\ttrain-logloss:0.360191\tvalid-logloss:0.438172\n",
      "[60]\ttrain-logloss:0.328719\tvalid-logloss:0.419544\n",
      "[70]\ttrain-logloss:0.302701\tvalid-logloss:0.404917\n",
      "[80]\ttrain-logloss:0.281015\tvalid-logloss:0.393392\n",
      "[90]\ttrain-logloss:0.262727\tvalid-logloss:0.384421\n",
      "[100]\ttrain-logloss:0.246257\tvalid-logloss:0.377273\n",
      "[110]\ttrain-logloss:0.232034\tvalid-logloss:0.371492\n",
      "[120]\ttrain-logloss:0.219911\tvalid-logloss:0.366805\n",
      "[130]\ttrain-logloss:0.210317\tvalid-logloss:0.363073\n",
      "[140]\ttrain-logloss:0.201901\tvalid-logloss:0.36031\n",
      "[150]\ttrain-logloss:0.194391\tvalid-logloss:0.358101\n",
      "[160]\ttrain-logloss:0.187469\tvalid-logloss:0.356435\n",
      "[170]\ttrain-logloss:0.181395\tvalid-logloss:0.355127\n",
      "[180]\ttrain-logloss:0.175932\tvalid-logloss:0.354057\n",
      "[190]\ttrain-logloss:0.171024\tvalid-logloss:0.353247\n",
      "[200]\ttrain-logloss:0.166994\tvalid-logloss:0.352618\n",
      "[210]\ttrain-logloss:0.163411\tvalid-logloss:0.352164\n",
      "[220]\ttrain-logloss:0.160453\tvalid-logloss:0.351844\n",
      "[230]\ttrain-logloss:0.157873\tvalid-logloss:0.351646\n",
      "[240]\ttrain-logloss:0.155535\tvalid-logloss:0.351434\n",
      "[250]\ttrain-logloss:0.153278\tvalid-logloss:0.351249\n",
      "[260]\ttrain-logloss:0.15164\tvalid-logloss:0.351201\n",
      "[270]\ttrain-logloss:0.150184\tvalid-logloss:0.351133\n",
      "[280]\ttrain-logloss:0.148175\tvalid-logloss:0.351128\n",
      "[290]\ttrain-logloss:0.146152\tvalid-logloss:0.351065\n",
      "[300]\ttrain-logloss:0.14452\tvalid-logloss:0.351108\n",
      "Stopping. Best iteration:\n",
      "[289]\ttrain-logloss:0.146333\tvalid-logloss:0.351051\n",
      "\n",
      "The test log loss is: 0.35118432112935993\n"
     ]
    }
   ],
   "source": [
    "import xgboost as xgb\n",
    "\n",
    "depth = [2 ** x for x in range(2, 5)]\n",
    "params = {}\n",
    "params['objective'] = 'binary:logistic'\n",
    "params['eval_metric'] = 'logloss'\n",
    "params['eta'] = 0.02\n",
    "\n",
    "for values in depth:\n",
    "    params['max_depth'] = values\n",
    "    print(\"XGBoost for the depth of \",params['max_depth'])\n",
    "    d_train = xgb.DMatrix(X_train, label=y_train)\n",
    "    d_test = xgb.DMatrix(X_test, label=y_test)\n",
    "\n",
    "    watchlist = [(d_train, 'train'), (d_test, 'valid')]\n",
    "\n",
    "    bst = xgb.train(params, d_train, 400, watchlist, early_stopping_rounds=20, verbose_eval=10)\n",
    "\n",
    "    xgdmat = xgb.DMatrix(X_train,y_train)\n",
    "    predict_y = bst.predict(d_test)\n",
    "    print(\"The test log loss is:\",log_loss(y_test, predict_y, labels=clf.classes_, eps=1e-15))"
   ]
  },
  {
   "cell_type": "markdown",
   "metadata": {},
   "source": [
    "In all the values of depth [4,8,16], our train and test log loss is approximatly same, and for depth= 8 our model give less log loss value as compare to log loss that we getting in depth 4,16. So i am considering 8 as a appropriate depth.   "
   ]
  },
  {
   "cell_type": "markdown",
   "metadata": {},
   "source": [
    "### Building model on depth = 8"
   ]
  },
  {
   "cell_type": "code",
   "execution_count": 80,
   "metadata": {},
   "outputs": [
    {
     "name": "stdout",
     "output_type": "stream",
     "text": [
      "XGBoost for the depth of  8\n",
      "[0]\ttrain-logloss:0.683086\tvalid-logloss:0.683317\n",
      "Multiple eval metrics have been passed: 'valid-logloss' will be used for early stopping.\n",
      "\n",
      "Will train until valid-logloss hasn't improved in 20 rounds.\n",
      "[10]\ttrain-logloss:0.600704\tvalid-logloss:0.603177\n",
      "[20]\ttrain-logloss:0.54182\tvalid-logloss:0.546321\n",
      "[30]\ttrain-logloss:0.497628\tvalid-logloss:0.504262\n",
      "[40]\ttrain-logloss:0.463688\tvalid-logloss:0.47228\n",
      "[50]\ttrain-logloss:0.437204\tvalid-logloss:0.447517\n",
      "[60]\ttrain-logloss:0.41611\tvalid-logloss:0.428177\n",
      "[70]\ttrain-logloss:0.399239\tvalid-logloss:0.412773\n",
      "[80]\ttrain-logloss:0.385571\tvalid-logloss:0.400539\n",
      "[90]\ttrain-logloss:0.37451\tvalid-logloss:0.39061\n",
      "[100]\ttrain-logloss:0.365426\tvalid-logloss:0.382651\n",
      "[110]\ttrain-logloss:0.358053\tvalid-logloss:0.376295\n",
      "[120]\ttrain-logloss:0.351426\tvalid-logloss:0.370954\n",
      "[130]\ttrain-logloss:0.345925\tvalid-logloss:0.366589\n",
      "[140]\ttrain-logloss:0.341467\tvalid-logloss:0.362985\n",
      "[150]\ttrain-logloss:0.337714\tvalid-logloss:0.360097\n",
      "[160]\ttrain-logloss:0.334644\tvalid-logloss:0.357772\n",
      "[170]\ttrain-logloss:0.33198\tvalid-logloss:0.355725\n",
      "[180]\ttrain-logloss:0.32961\tvalid-logloss:0.354028\n",
      "[190]\ttrain-logloss:0.327585\tvalid-logloss:0.352626\n",
      "[200]\ttrain-logloss:0.325667\tvalid-logloss:0.351269\n",
      "[210]\ttrain-logloss:0.323921\tvalid-logloss:0.350135\n",
      "[220]\ttrain-logloss:0.322276\tvalid-logloss:0.349137\n",
      "[230]\ttrain-logloss:0.320842\tvalid-logloss:0.348329\n",
      "[240]\ttrain-logloss:0.319571\tvalid-logloss:0.34761\n",
      "[250]\ttrain-logloss:0.318315\tvalid-logloss:0.346981\n",
      "[260]\ttrain-logloss:0.317365\tvalid-logloss:0.346496\n",
      "[270]\ttrain-logloss:0.316235\tvalid-logloss:0.345953\n",
      "[280]\ttrain-logloss:0.31505\tvalid-logloss:0.345467\n",
      "[290]\ttrain-logloss:0.31393\tvalid-logloss:0.345036\n",
      "[300]\ttrain-logloss:0.312788\tvalid-logloss:0.344633\n",
      "[310]\ttrain-logloss:0.311684\tvalid-logloss:0.344261\n",
      "[320]\ttrain-logloss:0.310764\tvalid-logloss:0.343934\n",
      "[330]\ttrain-logloss:0.309666\tvalid-logloss:0.343537\n",
      "[340]\ttrain-logloss:0.308539\tvalid-logloss:0.343145\n",
      "[350]\ttrain-logloss:0.307411\tvalid-logloss:0.342767\n",
      "[360]\ttrain-logloss:0.30633\tvalid-logloss:0.34248\n",
      "[370]\ttrain-logloss:0.305288\tvalid-logloss:0.342191\n",
      "[380]\ttrain-logloss:0.304077\tvalid-logloss:0.341955\n",
      "[390]\ttrain-logloss:0.303022\tvalid-logloss:0.341736\n",
      "[399]\ttrain-logloss:0.302311\tvalid-logloss:0.341619\n",
      "The test log loss is: 0.3416195735509982\n"
     ]
    }
   ],
   "source": [
    "params = {}\n",
    "params['objective'] = 'binary:logistic'\n",
    "params['eval_metric'] = 'logloss'\n",
    "params['eta'] = 0.02\n",
    "params['max_depth'] = 8\n",
    "print(\"XGBoost for the depth of \",params['max_depth'])\n",
    "d_train = xgb.DMatrix(X_train, label=y_train)\n",
    "d_test = xgb.DMatrix(X_test, label=y_test)\n",
    "\n",
    "watchlist = [(d_train, 'train'), (d_test, 'valid')]\n",
    "\n",
    "bst = xgb.train(params, d_train, 400, watchlist, early_stopping_rounds=20, verbose_eval=10)\n",
    "\n",
    "xgdmat = xgb.DMatrix(X_train,y_train)\n",
    "predict_y = bst.predict(d_test)\n",
    "print(\"The test log loss is:\",log_loss(y_test, predict_y, labels=clf.classes_, eps=1e-15))"
   ]
  },
  {
   "cell_type": "code",
   "execution_count": 81,
   "metadata": {},
   "outputs": [
    {
     "name": "stdout",
     "output_type": "stream",
     "text": [
      "Total number of data points : 30001\n"
     ]
    },
    {
     "data": {
      "image/png": "[encoded data removed]",
      "text/plain": [
       "<Figure size 1440x288 with 6 Axes>"
      ]
     },
     "metadata": {
      "needs_background": "light"
     },
     "output_type": "display_data"
    }
   ],
   "source": [
    "predicted_y =np.array(predict_y>0.5,dtype=int)\n",
    "print(\"Total number of data points :\", len(predicted_y))\n",
    "plot_confusion_matrix(y_test, predicted_y)"
   ]
  },
  {
   "cell_type": "markdown",
   "metadata": {},
   "source": [
    "for depth = 8, we are getting 84.8% precision and 88.6% recall for the questions that are not similar and 79.3% precision 73.3% recall for the questions that are similar."
   ]
  },
  {
   "cell_type": "markdown",
   "metadata": {},
   "source": [
    "# 5.5 Conclusion -:"
   ]
  },
  {
   "cell_type": "markdown",
   "metadata": {},
   "source": [
    "### Logistic Regression -:\n",
    "we are getting 62.7% precision and 100% recall for the questions that are not similar and 0% precision 0% recall for the questions that are similar."
   ]
  },
  {
   "cell_type": "markdown",
   "metadata": {},
   "source": [
    "### Linear SVM -:\n",
    "we are getting 64.2% precision and 94.1% recall for the questions that are not similar and 58.1% precision 13.7% recall for the questions that are similar."
   ]
  },
  {
   "cell_type": "markdown",
   "metadata": {},
   "source": [
    "### XGBoost -:\n",
    " we are getting 84.8% precision and 88.6% recall for the questions that are not similar and 79.3% precision 73.3% recall for the questions that are similar."
   ]
  },
  {
   "cell_type": "markdown",
   "metadata": {},
   "source": [
    "## From the detail of precision and recall it is clear that XGBoost perform well on data. Because We are getting High precision and recall values for both (Similar Question or non Similar Questions)."
   ]
  },
  {
   "cell_type": "code",
   "execution_count": null,
   "metadata": {},
   "outputs": [],
   "source": []
  }
 ],
 "metadata": {
  "colab": {
   "name": "4.ML_models.ipynb",
   "provenance": [],
   "version": "0.3.2"
  },
  "kernelspec": {
   "display_name": "Python 3",
   "language": "python",
   "name": "python3"
  },
  "language_info": {
   "codemirror_mode": {
    "name": "ipython",
    "version": 3
   },
   "file_extension": ".py",
   "mimetype": "text/x-python",
   "name": "python",
   "nbconvert_exporter": "python",
   "pygments_lexer": "ipython3",
   "version": "3.7.1"
  }
 },
 "nbformat": 4,
 "nbformat_minor": 1
}
